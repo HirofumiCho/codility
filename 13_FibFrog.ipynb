{
 "cells": [
  {
   "cell_type": "code",
   "execution_count": 4,
   "metadata": {},
   "outputs": [
    {
     "name": "stdout",
     "output_type": "stream",
     "text": [
      "[1, 0, 0, 0, 1, 1, 0, 1, 0, 0, 0, 0, 1]\n",
      "[1, 1, 2, 3, 5, 8, 13]\n",
      "12\n",
      "13\n",
      "[0, 13, 13, 13, 13, 1, 13, 13, 13, 13, 13, 13, 13]\n",
      "[0, 13, 13, 13, 13, 1, 13, 2, 13, 13, 13, 13, 13]\n",
      "[0, 13, 13, 13, 13, 1, 13, 2, 13, 13, 13, 13, 3]\n"
     ]
    },
    {
     "data": {
      "text/plain": [
       "3"
      ]
     },
     "execution_count": 4,
     "metadata": {},
     "output_type": "execute_result"
    }
   ],
   "source": [
    "# For example, consider array A such that:\n",
    "\n",
    "# A[0] = 0\n",
    "# A[1] = 0\n",
    "# A[2] = 0\n",
    "# A[3] = 1\n",
    "# A[4] = 1\n",
    "# A[5] = 0\n",
    "# A[6] = 1\n",
    "# A[7] = 0\n",
    "# A[8] = 0\n",
    "# A[9] = 0\n",
    "# A[10] = 0\n",
    "\n",
    "# The frog can make three jumps of length F(5) = 5, F(3) = 2 and F(5) = 5.\n",
    "# the function should return 3, as explained above.\n",
    "\n",
    "def fib(n):\n",
    "    \"\"\"\n",
    "    构造不大于n的斐波那契数的列表\n",
    "    :param n: 最大值\n",
    "    :return: 斐波那契数列[1， 1， 2， 3， 5， 8 ……]\n",
    "    \"\"\"\n",
    "    fib_list = [1]\n",
    "    a = fib_list[0]\n",
    "    b = 1\n",
    "    while b <= n:\n",
    "        fib_list.append(b)\n",
    "        a, b = b, a+b\n",
    "    return fib_list\n",
    "\n",
    "\n",
    "def solution(A):\n",
    "    \"\"\"\n",
    "    判断能否按照斐波那契步数过河。 时间复杂度O(N * log(N))\n",
    "    :param A: 表示河面上树叶情况的数组\n",
    "    :return: 能，返回最少次数。不能，返回-1\n",
    "    \"\"\"\n",
    "    A = [1] + A + [1]  # 添加开始的位置-1，以及结束的位置N\n",
    "    print(A)\n",
    "    length = len(A)\n",
    "    fib_list = fib(length)\n",
    "    print(fib_list)\n",
    "    print(length - 1)\n",
    "    print(fib_list[-1])\n",
    "    if length - 1 == fib_list[-1]:  # 一次就可从位置-1跳到位置N\n",
    "        return 1\n",
    "    else:\n",
    "        sign_list = [length] * length  # 参照序列\n",
    "        sign_list[0] = 0\n",
    "        for i in range(1, length):\n",
    "            if A[i] == 1:  # 此处有树叶\n",
    "                #  遍历斐波那契数列, 寻找最少的跳跃次数\n",
    "                # ①i=5, j=5, dis=0\n",
    "                # ②i=7, j=2, dis=5\n",
    "                # ③i=12, j=5, dis=7\n",
    "                for j in fib_list:\n",
    "                    dis = i - j  # dis不得小于0，\n",
    "                    if dis >= 0:\n",
    "                        if sign_list[dis] + 1 < sign_list[i]:  # 说明dis位置可以斐波那契到达的，\n",
    "                            sign_list[i] = sign_list[dis] + 1  # 达到位置dis的次数再加上走长度为斐波那契数j的一次\n",
    "                            print(sign_list)\n",
    "                    else:\n",
    "                        break  # 后面的斐波那契数更大\n",
    "        if sign_list[-1] < length:\n",
    "            return sign_list[-1]\n",
    "        else:\n",
    "            return -1\n",
    "\n",
    "\n",
    "A=[0,0,0,1,1,0,1,0,0,0,0]\n",
    "solution(A)"
   ]
  }
 ],
 "metadata": {
  "interpreter": {
   "hash": "fdc35f30aaebd47e83f4266d0dd17bde7edc05f636fde7db7312122ba51bd297"
  },
  "kernelspec": {
   "display_name": "Python 3.6.13 ('pytorch')",
   "language": "python",
   "name": "python3"
  },
  "language_info": {
   "codemirror_mode": {
    "name": "ipython",
    "version": 3
   },
   "file_extension": ".py",
   "mimetype": "text/x-python",
   "name": "python",
   "nbconvert_exporter": "python",
   "pygments_lexer": "ipython3",
   "version": "3.6.13"
  },
  "orig_nbformat": 4
 },
 "nbformat": 4,
 "nbformat_minor": 2
}
