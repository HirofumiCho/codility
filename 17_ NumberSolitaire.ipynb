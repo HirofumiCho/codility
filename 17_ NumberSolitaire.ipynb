{
 "cells": [
  {
   "cell_type": "code",
   "execution_count": 2,
   "metadata": {},
   "outputs": [
    {
     "name": "stdout",
     "output_type": "stream",
     "text": [
      "[1, 1, 1, 1, 1, 1, 1, 1, 1, 1, 1, 1]\n",
      "[1, 1, 1, 1, 1, 1, 1, -1, 1, 1, 1, 1]\n",
      "[1, 1, 1, 1, 1, 1, 1, -1, 1, 1, 1, 1]\n",
      "[1, 1, 1, 1, 1, 1, 1, -1, 1, 10, 1, 1]\n",
      "[1, 1, 1, 1, 1, 1, 1, -1, 1, 10, 9, 1]\n",
      "[1, 1, 1, 1, 1, 1, 1, -1, 1, 10, 9, 8]\n"
     ]
    },
    {
     "data": {
      "text/plain": [
       "8"
      ]
     },
     "execution_count": 2,
     "metadata": {},
     "output_type": "execute_result"
    }
   ],
   "source": [
    "# For example, given the following array:\n",
    "\n",
    "# A[0] = 1\n",
    "# A[1] = -2\n",
    "# A[2] = 0\n",
    "# A[3] = 9\n",
    "# A[4] = -1\n",
    "# A[5] = -2\n",
    "# one possible game could be as follows:\n",
    "\n",
    "# the pebble is on square number 0, which is marked;\n",
    "# we throw 3; the pebble moves from square number 0 to square number 3; we mark square number 3;\n",
    "# we throw 5; the pebble does not move, since there is no square number 8 on the board;\n",
    "# we throw 2; the pebble moves to square number 5; we mark this square and the game ends.\n",
    "# The marked squares are 0, 3 and 5, so the result of the game is 1 + 9 + (−2) = 8. This is the maximal possible result that can be achieved on this board.\n",
    "\n",
    "\n",
    "def solution(A):\n",
    "    # The first six items are used for padding only, so that we can have\n",
    "    # a unified for loop, no matter how many squares are there in input.\n",
    "    # The first item is never accessed.\n",
    "    max_so_far = [A[0]] * (len(A) + 6)\n",
    "    print(max_so_far)\n",
    "    for index in range(1, len(A)):\n",
    "        # Because we have a fixed length of window as 6, the time\n",
    "        # complexity of max(max_so_far[index : index + 6]) is O(1).\n",
    "        max_so_far[index + 6] = max(max_so_far[index : index + 6]) + A[index]\n",
    "        print(max_so_far)\n",
    "    return max_so_far[-1]\n",
    "\n",
    "A = [1,-2,0,9,-1,-2] \n",
    "\n",
    "solution(A)"
   ]
  }
 ],
 "metadata": {
  "interpreter": {
   "hash": "fdc35f30aaebd47e83f4266d0dd17bde7edc05f636fde7db7312122ba51bd297"
  },
  "kernelspec": {
   "display_name": "Python 3.6.13 ('pytorch')",
   "language": "python",
   "name": "python3"
  },
  "language_info": {
   "codemirror_mode": {
    "name": "ipython",
    "version": 3
   },
   "file_extension": ".py",
   "mimetype": "text/x-python",
   "name": "python",
   "nbconvert_exporter": "python",
   "pygments_lexer": "ipython3",
   "version": "3.6.13"
  },
  "orig_nbformat": 4
 },
 "nbformat": 4,
 "nbformat_minor": 2
}
