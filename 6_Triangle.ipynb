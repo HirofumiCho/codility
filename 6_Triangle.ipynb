{
 "cells": [
  {
   "cell_type": "code",
   "execution_count": null,
   "metadata": {},
   "outputs": [],
   "source": [
    "# For example, consider array A such that:\n",
    "\n",
    "# A[0] = 10    A[1] = 2    A[2] = 5\n",
    "# A[3] = 1     A[4] = 8    A[5] = 20\n",
    "# Triplet (0, 2, 4) is triangular.\n",
    "\n",
    "# returns 1 if there exists a triangular triplet for this array and returns 0 otherwise.\n",
    "\n",
    "def solution(A):\n",
    "    A_len = len(A)\n",
    "    if A_len < 3:\n",
    "        # N is an integer within the range [0..1,000,000]\n",
    "        # if the list is too short, it is impossible to\n",
    "        # find out a triangular.\n",
    "        return 0\n",
    "    A.sort()\n",
    "    for index in xrange(0, A_len-2):\n",
    "        if A[index]+A[index+1] > A[index+2]:\n",
    "            return 1\n",
    "        # The list is sorted, so A[index+i] >= A[index+2]\n",
    "        # where i>2. If A[index]+A[index+1] <= A[index+2],\n",
    "        # then A[index]+A[index+1] <= A[index+i], where\n",
    "        # i>=2. So there is no element in A[index+2:] that\n",
    "        # could be combined with A[index] and A[index+1]\n",
    "        # to be a triangular.\n",
    "    # No triangular is found\n",
    "    return 0\n"
   ]
  }
 ],
 "metadata": {
  "language_info": {
   "name": "python"
  },
  "orig_nbformat": 4
 },
 "nbformat": 4,
 "nbformat_minor": 2
}
