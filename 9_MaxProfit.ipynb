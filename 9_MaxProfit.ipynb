{
 "cells": [
  {
   "cell_type": "code",
   "execution_count": null,
   "metadata": {},
   "outputs": [],
   "source": [
    "# For example, consider the following array A consisting of six elements such that:\n",
    "\n",
    "# A[0] = 23171\n",
    "# A[1] = 21011\n",
    "# A[2] = 21123\n",
    "# A[3] = 21366\n",
    "# A[4] = 21013\n",
    "# A[5] = 21367\n",
    "# If a share was bought on day 0 and sold on day 2\n",
    "# a loss of 2048 would occur because A[2] − A[0] = 21123 − 23171 = −2048\n",
    "# If a share was bought on day 4 and sold on day 5\n",
    "# a profit of 354 would occur because A[5] − A[4] = 21367 − 21013 = 354\n",
    "# Maximum possible profit was 356\n",
    "# It would occur if a share was bought on day 1 and sold on day 5.\n",
    "\n",
    "def solution(A):\n",
    "    days = len(A)\n",
    "    # If the number of days is zero or one, there\n",
    "    # is no time to get profit.\n",
    "    if days < 2:\n",
    "        return 0\n",
    "    max_price_from_here = A[-1]\n",
    "    max_profit = 0\n",
    "    for index in range(days-2, -1, -1):\n",
    "        # max_price_from_here-A[index] means the maximum\n",
    "        # profit from current day to end.\n",
    "        max_profit = max(max_profit, max_price_from_here-A[index])\n",
    "        max_price_from_here = max(A[index], max_price_from_here)\n",
    "    return max_profit"
   ]
  }
 ],
 "metadata": {
  "language_info": {
   "name": "python"
  },
  "orig_nbformat": 4
 },
 "nbformat": 4,
 "nbformat_minor": 2
}
