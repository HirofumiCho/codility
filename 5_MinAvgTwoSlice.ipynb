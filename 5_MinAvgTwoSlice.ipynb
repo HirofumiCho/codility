{
 "cells": [
  {
   "cell_type": "code",
   "execution_count": null,
   "metadata": {},
   "outputs": [],
   "source": [
    "# For example, array A such that:\n",
    "\n",
    "# A[0] = 4\n",
    "# A[1] = 2\n",
    "# A[2] = 2\n",
    "# A[3] = 5\n",
    "# A[4] = 1\n",
    "# A[5] = 5\n",
    "# A[6] = 8\n",
    "# contains the following example slices:\n",
    "\n",
    "# slice (1, 2), whose average is (2 + 2) / 2 = 2;\n",
    "# slice (3, 4), whose average is (5 + 1) / 2 = 3;\n",
    "# slice (1, 4), whose average is (2 + 2 + 5 + 1) / 4 = 2.5.\n",
    "#the function should return 1, as explained above.\n",
    "\n",
    "#The goal is to find the starting position of a slice whose average is minimal.\n",
    "\n",
    "def solution(A):\n",
    "    # write your code in Python 3.6\n",
    "    min_avg_value = (A[0] + A[1])/2.0   # The mininal average\n",
    "    min_avg_pos = 0     # The begin position of the first\n",
    "                        # slice with mininal average\n",
    "    for index in range(0, len(A)-2):\n",
    "        # Try the next 2-element slice\n",
    "        if (A[index] + A[index+1]) / 2.0 < min_avg_value:\n",
    "            min_avg_value = (A[index] + A[index+1]) / 2.0\n",
    "            min_avg_pos = index\n",
    "        # Try the next 3-element slice\n",
    "        if (A[index] + A[index+1] + A[index+2]) / 3.0 < min_avg_value:\n",
    "            min_avg_value = (A[index] + A[index+1] + A[index+2]) / 3.0\n",
    "            min_avg_pos = index\n",
    "    # Try the last 2-element slice\n",
    "    if (A[-1]+A[-2])/2.0 < min_avg_value:\n",
    "        min_avg_value = (A[-1]+A[-2])/2.0\n",
    "        min_avg_pos = len(A)-2\n",
    "    return min_avg_pos\n"
   ]
  }
 ],
 "metadata": {
  "language_info": {
   "name": "python"
  },
  "orig_nbformat": 4
 },
 "nbformat": 4,
 "nbformat_minor": 2
}
