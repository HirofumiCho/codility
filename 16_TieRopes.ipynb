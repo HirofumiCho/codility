{
 "cells": [
  {
   "cell_type": "code",
   "execution_count": 1,
   "metadata": {},
   "outputs": [],
   "source": [
    "\n",
    "def solution(K, A):\n",
    "    # The number of tied ropes, whose lengths\n",
    "    # are greater than or equal to K.\n",
    "    count = 0\n",
    "    # The length of current rope (might be a tied one).\n",
    "    length = 0\n",
    "    for rope in A:\n",
    "        length += rope  # Tied with the previous one.\n",
    "        # Find a qualified rope. Prepare to find the\n",
    "        # next one.\n",
    "        if length >= K:     \n",
    "            count += 1\n",
    "            length = 0\n",
    "    return count"
   ]
  }
 ],
 "metadata": {
  "interpreter": {
   "hash": "fdc35f30aaebd47e83f4266d0dd17bde7edc05f636fde7db7312122ba51bd297"
  },
  "kernelspec": {
   "display_name": "Python 3.6.13 ('pytorch')",
   "language": "python",
   "name": "python3"
  },
  "language_info": {
   "codemirror_mode": {
    "name": "ipython",
    "version": 3
   },
   "file_extension": ".py",
   "mimetype": "text/x-python",
   "name": "python",
   "nbconvert_exporter": "python",
   "pygments_lexer": "ipython3",
   "version": "3.6.13"
  },
  "orig_nbformat": 4
 },
 "nbformat": 4,
 "nbformat_minor": 2
}
