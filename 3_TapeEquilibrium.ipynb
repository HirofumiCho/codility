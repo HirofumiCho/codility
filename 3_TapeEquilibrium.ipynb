{
 "cells": [
  {
   "cell_type": "code",
   "execution_count": 6,
   "metadata": {},
   "outputs": [
    {
     "name": "stdout",
     "output_type": "stream",
     "text": [
      "3\n",
      "4\n",
      "6\n",
      "10\n"
     ]
    },
    {
     "data": {
      "text/plain": [
       "1"
      ]
     },
     "execution_count": 6,
     "metadata": {},
     "output_type": "execute_result"
    }
   ],
   "source": [
    "# For example, consider array A such that:\n",
    "# A[0] = 3\n",
    "# A[1] = 1\n",
    "# A[2] = 2\n",
    "# A[3] = 4\n",
    "# A[4] = 3\n",
    "# We can split this tape in four places:\n",
    "\n",
    "# P = 1, difference = |3 − 10| = 7\n",
    "# P = 2, difference = |4 − 9| = 5\n",
    "# P = 3, difference = |6 − 7| = 1\n",
    "# P = 4, difference = |10 − 3| = 7\n",
    "\n",
    "def solution(A):          \n",
    "    s = sum(A)\n",
    "    m = float('inf') \n",
    "    # m取最大浮点数\n",
    "    left_sum = 0\n",
    "    for i in A[:-1]:\n",
    "        left_sum += i\n",
    "        #print(left_sum)\n",
    "        #3,4,6,10\n",
    "        m = min(abs(s - 2*left_sum), m)\n",
    "    return m\n",
    "\n",
    "#A=[3,1,2,4,3]\n",
    "#solution(A)"
   ]
  }
 ],
 "metadata": {
  "interpreter": {
   "hash": "033e964c0f93c70a97e342d2abac49b81c9fa00f2faf1ae23bc7beec7a25c518"
  },
  "kernelspec": {
   "display_name": "Python 3.8.11 ('pytorch')",
   "language": "python",
   "name": "python3"
  },
  "language_info": {
   "codemirror_mode": {
    "name": "ipython",
    "version": 3
   },
   "file_extension": ".py",
   "mimetype": "text/x-python",
   "name": "python",
   "nbconvert_exporter": "python",
   "pygments_lexer": "ipython3",
   "version": "3.8.11"
  },
  "orig_nbformat": 4
 },
 "nbformat": 4,
 "nbformat_minor": 2
}
