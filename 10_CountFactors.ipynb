{
 "cells": [
  {
   "cell_type": "code",
   "execution_count": null,
   "metadata": {},
   "outputs": [],
   "source": [
    "# For example, given N = 24, the function should return 8\n",
    "# because 24 has 8 factors \n",
    "# namely 1, 2, 3, 4, 6, 8, 12, 24. \n",
    "# There are no other factors of 24.\n",
    "\n",
    "def solution(N):\n",
    "    candidate = 1\n",
    "    result = 0\n",
    "    while candidate * candidate < N:\n",
    "        # N has two factors: candidate and N // candidate\n",
    "        if N % candidate == 0:      \n",
    "            result += 2\n",
    "        candidate += 1\n",
    "    # If N is square of some value.\n",
    "    if candidate * candidate == N:  \n",
    "        result += 1\n",
    "    return result"
   ]
  }
 ],
 "metadata": {
  "language_info": {
   "name": "python"
  },
  "orig_nbformat": 4
 },
 "nbformat": 4,
 "nbformat_minor": 2
}
