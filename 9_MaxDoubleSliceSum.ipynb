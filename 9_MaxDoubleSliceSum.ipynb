{
 "cells": [
  {
   "cell_type": "code",
   "execution_count": null,
   "metadata": {},
   "outputs": [],
   "source": [
    "# For example, array A such that:\n",
    "\n",
    "# A[0] = 3\n",
    "# A[1] = 2\n",
    "# A[2] = 6\n",
    "# A[3] = -1\n",
    "# A[4] = 4\n",
    "# A[5] = 5\n",
    "# A[6] = -1\n",
    "# A[7] = 2\n",
    "# contains the following example double slices:\n",
    "\n",
    "# double slice (0, 3, 6), sum is 2 + 6 + 4 + 5 = 17,\n",
    "# double slice (0, 3, 7), sum is 2 + 6 + 4 + 5 − 1 = 16,\n",
    "# double slice (3, 4, 5), sum is 0.\n",
    "# The goal is to find the maximal sum of any double slice.\n",
    "\n",
    "def solution(A):\n",
    "    \"\"\"Solution method implementation.\"\"\"\n",
    "    # variables initialization\n",
    "    #https://zh.wikipedia.org/wiki/%E6%9C%80%E5%A4%A7%E5%AD%90%E6%95%B0%E5%88%97%E9%97%AE%E9%A2%98\n",
    "    max_sum = 0\n",
    "    list_len = len(A)\n",
    "    fwd = [0] * list_len\n",
    "    bkw = [0] * list_len\n",
    "    # going forward through the list\n",
    "    for i in range(1, list_len - 1):\n",
    "        fwd[i] = max(fwd[i - 1] + A[i], 0)\n",
    "    # going backward through the list\n",
    "    for i in range(list_len - 2, 0, -1):\n",
    "        bkw[i] = max(bkw[i + 1] + A[i], 0)\n",
    "    # getting the maximum double slice sum\n",
    "    for i in range(1, list_len - 1):\n",
    "        max_sum = max(max_sum, fwd[i - 1] + bkw[i + 1])\n",
    "    # return the maximum double slice sum\n",
    "    return max_sum"
   ]
  }
 ],
 "metadata": {
  "language_info": {
   "name": "python"
  },
  "orig_nbformat": 4
 },
 "nbformat": 4,
 "nbformat_minor": 2
}
