{
 "cells": [
  {
   "cell_type": "code",
   "execution_count": null,
   "metadata": {},
   "outputs": [],
   "source": [
    "# For example, consider integer N = 5 and array A such that:\n",
    "\n",
    "# A[0] = 3\n",
    "# A[1] = 1\n",
    "# A[2] = 2\n",
    "# A[3] = 3\n",
    "# A[4] = 6\n",
    "# For the following elements:\n",
    "\n",
    "# A[0] = 3, the non-divisors are: 2, 6,\n",
    "# A[1] = 1, the non-divisors are: 3, 2, 3, 6,\n",
    "# A[2] = 2, the non-divisors are: 3, 3, 6,\n",
    "# A[3] = 3, the non-divisors are: 2, 6,\n",
    "# A[4] = 6, there aren't any non-divisors.\n",
    "\n",
    "# the function should return [2, 4, 3, 2, 0], as explained above.\n",
    "\n",
    "def solution(A):\n",
    "  \n",
    "    A_max = max(A)\n",
    "  \n",
    "    count = {}\n",
    "    for element in A:\n",
    "        if element not in count:\n",
    "            count[element] = 1\n",
    "        else:\n",
    "            count[element] += 1\n",
    "  \n",
    "    divisors = {}\n",
    "    for element in A:\n",
    "        divisors[element] = set([1, element])\n",
    "  \n",
    "    # start the Sieve of Eratosthenes\n",
    "    # https://zh.wikipedia.org/wiki/%E5%9F%83%E6%8B%89%E6%89%98%E6%96%AF%E7%89%B9%E5%B0%BC%E7%AD%9B%E6%B3%95\n",
    "    divisor = 2\n",
    "    while divisor*divisor <= A_max:\n",
    "        element_candidate = divisor\n",
    "        while element_candidate  <= A_max:\n",
    "            if element_candidate in divisors and not divisor in divisors[element_candidate]:\n",
    "                divisors[element_candidate].add(divisor)\n",
    "                divisors[element_candidate].add(element_candidate//divisor)\n",
    "            element_candidate += divisor\n",
    "        divisor += 1\n",
    "  \n",
    "    result = [0] * len(A)\n",
    "    for idx, element in enumerate(A):\n",
    "        result[idx] = (len(A)-sum([count.get(divisor,0) for divisor in divisors[element]]))\n",
    "  \n",
    "    return result"
   ]
  }
 ],
 "metadata": {
  "language_info": {
   "name": "python"
  },
  "orig_nbformat": 4
 },
 "nbformat": 4,
 "nbformat_minor": 2
}
