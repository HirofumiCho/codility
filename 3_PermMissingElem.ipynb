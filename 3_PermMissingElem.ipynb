{
 "cells": [
  {
   "cell_type": "code",
   "execution_count": null,
   "metadata": {},
   "outputs": [],
   "source": [
    "# For example, given array A such that:\n",
    "# A[0] = 2\n",
    "# A[1] = 3\n",
    "# A[2] = 1\n",
    "# A[3] = 5\n",
    "# the function should return 4, as it is the missing element.\n",
    "\n",
    "def solution(A):\n",
    "    # write your code in Python 3.6\n",
    "    n = len(A)\n",
    "    total = (n + 2) * (n + 1) // 2\n",
    "    arrSum = sum(A)\n",
    "    return total - arrSum"
   ]
  }
 ],
 "metadata": {
  "language_info": {
   "name": "python"
  },
  "orig_nbformat": 4
 },
 "nbformat": 4,
 "nbformat_minor": 2
}
