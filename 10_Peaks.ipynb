{
 "cells": [
  {
   "cell_type": "code",
   "execution_count": null,
   "metadata": {},
   "outputs": [],
   "source": [
    "# For example, the following array A:\n",
    "\n",
    "# A[0] = 1\n",
    "# A[1] = 2\n",
    "# A[2] = 3\n",
    "# A[3] = 4\n",
    "# A[4] = 3\n",
    "# A[5] = 4\n",
    "# A[6] = 1\n",
    "# A[7] = 2\n",
    "# A[8] = 3\n",
    "# A[9] = 4\n",
    "# A[10] = 6\n",
    "# A[11] = 2\n",
    "# has exactly three peaks: 3, 5, 10.\n",
    "\n",
    "# The goal is to find the maximum number of blocks into which the array A can be divided.\n",
    "# you can write to stdout for debugging purposes, e.g.\n",
    "# print(\"this is a debug message\")\n",
    "\n",
    "def solution(A):\n",
    "    peaks = []\n",
    " \n",
    "    for idx in range(1, len(A)-1):\n",
    "        if A[idx-1] < A[idx] > A[idx+1]:\n",
    "            peaks.append(idx)\n",
    " \n",
    "    if len(peaks) == 0:\n",
    "        return 0\n",
    " \n",
    "    for size in range(len(peaks), 0, -1):\n",
    "        if len(A) % size == 0:\n",
    "            block_size = len(A) // size\n",
    "            found = [False] * size\n",
    "            found_cnt = 0\n",
    "            for peak in peaks:\n",
    "                block_nr = peak//block_size\n",
    "                if found[block_nr] == False:\n",
    "                    found[block_nr] = True\n",
    "                    found_cnt += 1\n",
    " \n",
    "            if found_cnt == size:\n",
    "                return size\n",
    " \n",
    "    return 0\n",
    "\n"
   ]
  }
 ],
 "metadata": {
  "language_info": {
   "name": "python"
  },
  "orig_nbformat": 4
 },
 "nbformat": 4,
 "nbformat_minor": 2
}
