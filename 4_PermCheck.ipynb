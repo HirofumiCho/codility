{
 "cells": [
  {
   "cell_type": "code",
   "execution_count": null,
   "metadata": {},
   "outputs": [],
   "source": [
    "# For example, array A such that:\n",
    "\n",
    "# A[0] = 4\n",
    "# A[1] = 1\n",
    "# A[2] = 3\n",
    "# A[3] = 2\n",
    "# is a permutation, but array A such that:\n",
    "\n",
    "# A[0] = 4\n",
    "# A[1] = 1\n",
    "# A[2] = 3\n",
    "# is not a permutation, because value 2 is missing.\n",
    "\n",
    "def solution(A):\n",
    "    counter = [0]*len(A)\n",
    "    limit = len(A)\n",
    "    for element in A:\n",
    "        if not 1 <= element <= limit:\n",
    "            return 0\n",
    "        else:\n",
    "            if counter[element-1] != 0:\n",
    "                return 0\n",
    "            else:\n",
    "                counter[element-1] = 1\n",
    "    return 1\n",
    "\n"
   ]
  }
 ],
 "metadata": {
  "language_info": {
   "name": "python"
  },
  "orig_nbformat": 4
 },
 "nbformat": 4,
 "nbformat_minor": 2
}
