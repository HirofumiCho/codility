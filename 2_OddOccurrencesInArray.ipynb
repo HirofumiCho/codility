{
 "cells": [
  {
   "cell_type": "code",
   "execution_count": null,
   "metadata": {},
   "outputs": [],
   "source": [
    "# For example, given array A such that:\n",
    "# A[0] = 9  A[1] = 3  A[2] = 9\n",
    "# A[3] = 3  A[4] = 9  A[5] = 7\n",
    "# A[6] = 9\n",
    "# the function should return 7, as explained in the example above.\n",
    "\n",
    "def solution(A):\n",
    "    # write your code in Python 3.6\n",
    "    ans = 0\n",
    "    for num in A:\n",
    "        ans ^= num\n",
    "    return ans"
   ]
  }
 ],
 "metadata": {
  "language_info": {
   "name": "python"
  },
  "orig_nbformat": 4
 },
 "nbformat": 4,
 "nbformat_minor": 2
}
