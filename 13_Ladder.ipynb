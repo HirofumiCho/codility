{
 "cells": [
  {
   "cell_type": "code",
   "execution_count": 11,
   "metadata": {},
   "outputs": [
    {
     "name": "stdout",
     "output_type": "stream",
     "text": [
      "[0, 1, 1, 2, 3, 5, 8]\n",
      "5\n",
      "[5, 0, 0, 0, 0]\n",
      "[5, 0, 0, 0, 0]\n",
      "8\n",
      "5\n",
      "[5, 1, 0, 0, 0]\n",
      "[5, 1, 0, 0, 0]\n",
      "4\n",
      "8\n",
      "[5, 1, 8, 0, 0]\n",
      "[5, 1, 8, 0, 0]\n",
      "16\n",
      "8\n",
      "[5, 1, 8, 0, 0]\n",
      "[5, 1, 8, 0, 0]\n",
      "8\n",
      "1\n",
      "[5, 1, 8, 0, 1]\n",
      "[5, 1, 8, 0, 1]\n",
      "2\n"
     ]
    },
    {
     "data": {
      "text/plain": [
       "[5, 1, 8, 0, 1]"
      ]
     },
     "execution_count": 11,
     "metadata": {},
     "output_type": "execute_result"
    }
   ],
   "source": [
    "# For example, given N = 4, you have five different ways of climbing, ascending by:\n",
    "\n",
    "# 1, 1, 1 and 1 rung,\n",
    "# 1, 1 and 2 rungs,\n",
    "# 1, 2 and 1 rung,\n",
    "# 2, 1 and 1 rungs, and\n",
    "# 2 and 2 rungs.\n",
    "# Given N = 5, you have eight different ways of climbing, ascending by:\n",
    "\n",
    "# 1, 1, 1, 1 and 1 rung,\n",
    "# 1, 1, 1 and 2 rungs,\n",
    "# 1, 1, 2 and 1 rung,\n",
    "# 1, 2, 1 and 1 rung,\n",
    "# 1, 2 and 2 rungs,\n",
    "# 2, 1, 1 and 1 rungs,\n",
    "# 2, 1 and 2 rungs, and\n",
    "# 2, 2 and 1 rung.\n",
    "\n",
    "# For example, given L = 5 and:\n",
    "\n",
    "#     A[0] = 4   B[0] = 3\n",
    "#     A[1] = 4   B[1] = 2\n",
    "#     A[2] = 5   B[2] = 4\n",
    "#     A[3] = 5   B[3] = 3\n",
    "#     A[4] = 1   B[4] = 1\n",
    "# the function should return the sequence [5, 1, 8, 0, 1], as explained above.\n",
    "\n",
    "def solution(A, B):\n",
    "    limit    = max(A)                 # The possible largest N rungs\n",
    "    result   = [0] * len(A)           # The result for each query\n",
    "    result2   = [0] * len(A) \n",
    "    # modLimit = (1 << max(B)) - 1      # To avoid big interger in fibs\n",
    "    # Compute the Fibonacci numbers for later use\n",
    "    fib    = [0] * (limit+2)\n",
    "    fib[1] = 1\n",
    "    for i in range(2, limit + 2):\n",
    "        fib[i] = (fib[i - 1] + fib[i - 2]) # & modLimit\n",
    "    for i in range(len(A)):\n",
    "        # To climb to A[i] rungs, you could either\n",
    "        # come from A[i]-1 with an one-step jump\n",
    "        # OR come from A[i]-2 with a two-step jump\n",
    "        # So from A[i] rungs, the number of different ways of climbing\n",
    "        # to the top of the ladder is the Fibonacci number at position\n",
    "        # A[i] + 1\n",
    "        result[i] = fib[A[i]+1] & ((1<<B[i])-1)\n",
    "        # <<左移乘2\n",
    "    return result2\n"
   ]
  }
 ],
 "metadata": {
  "interpreter": {
   "hash": "fdc35f30aaebd47e83f4266d0dd17bde7edc05f636fde7db7312122ba51bd297"
  },
  "kernelspec": {
   "display_name": "Python 3.6.13 ('pytorch')",
   "language": "python",
   "name": "python3"
  },
  "language_info": {
   "codemirror_mode": {
    "name": "ipython",
    "version": 3
   },
   "file_extension": ".py",
   "mimetype": "text/x-python",
   "name": "python",
   "nbconvert_exporter": "python",
   "pygments_lexer": "ipython3",
   "version": "3.6.13"
  },
  "orig_nbformat": 4
 },
 "nbformat": 4,
 "nbformat_minor": 2
}
