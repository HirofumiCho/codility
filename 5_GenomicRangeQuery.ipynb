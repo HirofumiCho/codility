{
 "cells": [
  {
   "cell_type": "code",
   "execution_count": null,
   "metadata": {},
   "outputs": [],
   "source": [
    "# For example, given the string S = CAGCCTA and arrays P, Q such that:\n",
    "\n",
    "# P[0] = 2    Q[0] = 4\n",
    "#2-4 GCC C=2\n",
    "# P[1] = 5    Q[1] = 5\n",
    "#5-5 T T=4\n",
    "# P[2] = 0    Q[2] = 6\n",
    "#0-6 CAGCCTA A=1\n",
    "\n",
    "# the function should return the values [2, 4, 1], as explained above.\n",
    "\n",
    "def solution(S, P, Q):\n",
    "    res = []\n",
    "    for i in range(len(P)):\n",
    "        if 'A' in S[P[i]:Q[i]+1]:\n",
    "            res.append(1)\n",
    "        elif 'C' in S[P[i]:Q[i]+1]:\n",
    "            res.append(2)\n",
    "        elif 'G' in S[P[i]:Q[i]+1]:\n",
    "            res.append(3)\n",
    "        else:\n",
    "            res.append(4)\n",
    "    return res"
   ]
  }
 ],
 "metadata": {
  "language_info": {
   "name": "python"
  },
  "orig_nbformat": 4
 },
 "nbformat": 4,
 "nbformat_minor": 2
}
