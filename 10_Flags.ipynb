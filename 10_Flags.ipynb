{
 "cells": [
  {
   "cell_type": "code",
   "execution_count": null,
   "metadata": {},
   "outputs": [],
   "source": [
    "def solution(A):\n",
    "    \"\"\"Solution method implementation.\"\"\"\n",
    "    # variable initialization\n",
    "    list_len = len(A)\n",
    "    next_peak = [0] * list_len\n",
    "    cnt = 0\n",
    "    # build lookup list\n",
    "    for i in range(list_len - 2, 0, -1):\n",
    "        if A[i - 1] < A[i] > A[i + 1]:\n",
    "            next_peak[i] = i\n",
    "            cnt += 1\n",
    "        else:\n",
    "            next_peak[i] = next_peak[i + 1]\n",
    "    # plant flags\n",
    "    for intended in range(cnt, 0, -1):\n",
    "        planted, i = 0, 1\n",
    "        while i < list_len and next_peak[i] and planted < intended:\n",
    "            # move cursor on next peak\n",
    "            i = next_peak[i]\n",
    "            # plant the flag\n",
    "            planted += 1\n",
    "            # k distance between k flags. Move cursor accordingly\n",
    "            i += intended\n",
    "        if intended == planted:\n",
    "            return planted\n",
    "    \n",
    "    return 0\n"
   ]
  }
 ],
 "metadata": {
  "language_info": {
   "name": "python"
  },
  "orig_nbformat": 4
 },
 "nbformat": 4,
 "nbformat_minor": 2
}
