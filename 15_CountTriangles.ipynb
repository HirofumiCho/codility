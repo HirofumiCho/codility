{
 "cells": [
  {
   "cell_type": "code",
   "execution_count": null,
   "metadata": {},
   "outputs": [],
   "source": [
    "# For example, consider array A such that:\n",
    "\n",
    "# A[0] = 10    A[1] = 2    A[2] = 5\n",
    "# A[3] = 1     A[4] = 8    A[5] = 12\n",
    "# There are four triangular triplets that can be constructed from elements of this array, namely (0, 2, 4), (0, 2, 5), (0, 4, 5), and (2, 4, 5).\n",
    "\n",
    "def solution(A):\n",
    "    n = len(A)\n",
    "    result = 0\n",
    "    A.sort()\n",
    "    for first in range(n-2):\n",
    "        third = first + 2\n",
    "        for second in range(first+1, n-1):\n",
    "            while third < n and A[first] + A[second] > A[third]:\n",
    "                third += 1\n",
    "            result += third - second - 1\n",
    "    return result"
   ]
  }
 ],
 "metadata": {
  "language_info": {
   "name": "python"
  },
  "orig_nbformat": 4
 },
 "nbformat": 4,
 "nbformat_minor": 2
}
