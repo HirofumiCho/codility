{
 "cells": [
  {
   "cell_type": "code",
   "execution_count": null,
   "metadata": {},
   "outputs": [],
   "source": [
    "# you can write to stdout for debugging purposes, e.g.\n",
    "# print(\"this is a debug message\")\n",
    "\n",
    "\n",
    "from bisect import bisect_right\n",
    "\n",
    "def solution(A):\n",
    "    pairs = 0\n",
    "\n",
    "    # create an array of tuples, each containing the start and end indices of a disk\n",
    "    # some indices may be less than 0 or greater than len(A), this is fine!\n",
    "    # sort the array by the first entry of each tuple: the disk start indices\n",
    "    intervals = sorted( [(i-A[i], i+A[i]) for i in range(len(A))] )\n",
    "    #[(-4, 6), (-1, 1), (0, 4), (0, 8), (2, 4), (5, 5)]\n",
    "\n",
    "    # create an array of starting indices using tuples in intervals\n",
    "    starts = [i[0] for i in intervals]\n",
    "    #[-4, -1, 0, 0, 2, 5]\n",
    "\n",
    "    # for each disk in order of the *starting* position of the disk, not the centre\n",
    "    for i in range(len(starts)):\n",
    "\n",
    "        # find the end position of that disk from the array of tuples\n",
    "        disk_end = intervals[i][1]\n",
    "        #6,1,4,8,4,5\n",
    "\n",
    "        # find the index of the rightmost value less than or equal to the interval-end\n",
    "        # this finds the number of disks that have started before disk i ends\n",
    "        count = bisect_right(starts, disk_end)\n",
    "\n",
    "        # subtract current position to exclude previous matches\n",
    "        # this bit seemed 'magic' to me, so I think of it like this...\n",
    "        # for disk i, i disks that start to the left have already been dealt with\n",
    "        # subtract i from count to prevent double counting\n",
    "        # subtract one more to prevent counting the disk itsself\n",
    "        count -= (i+1)\n",
    "        pairs += count\n",
    "        if pairs > 10000000:\n",
    "            return -1\n",
    "    return pairs\n"
   ]
  }
 ],
 "metadata": {
  "language_info": {
   "name": "python"
  },
  "orig_nbformat": 4
 },
 "nbformat": 4,
 "nbformat_minor": 2
}
