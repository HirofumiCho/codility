{
 "cells": [
  {
   "cell_type": "code",
   "execution_count": null,
   "metadata": {},
   "outputs": [],
   "source": [
    "# For example, given integer N = 5 and array A such that:\n",
    "\n",
    "# A[0] = 3\n",
    "# A[1] = 4\n",
    "# A[2] = 4\n",
    "# A[3] = 6\n",
    "# A[4] = 1\n",
    "# A[5] = 4\n",
    "# A[6] = 4\n",
    "# the values of the counters after each consecutive operation will be:\n",
    "\n",
    "# (0, 0, 1, 0, 0)\n",
    "# (0, 0, 1, 1, 0)\n",
    "# (0, 0, 1, 2, 0)\n",
    "# (2, 2, 2, 2, 2)\n",
    "# (3, 2, 2, 2, 2)\n",
    "# (3, 2, 2, 3, 2)\n",
    "# (3, 2, 2, 4, 2)\n",
    "# The goal is to calculate the value of every counter after all operations.\n",
    "\n",
    "def solution(N, A):\n",
    "    result = [0]*N    # The list to be returned\n",
    "    max_counter = 0   # The used value in previous max_counter command\n",
    "    current_max = 0   # The current maximum value of any counter\n",
    "    for command in A:\n",
    "        if 1 <= command <= N:\n",
    "            # increase(X) command\n",
    "            if max_counter > result[command-1]:\n",
    "                # lazy write\n",
    "                result[command-1] = max_counter\n",
    "            result[command-1] += 1\n",
    "            if current_max < result[command-1]:\n",
    "                current_max = result[command-1]\n",
    "        else:\n",
    "            # max_counter command\n",
    "            # just record the current maximum value for later write\n",
    "            max_counter = current_max\n",
    "    for index in range(0,N):\n",
    "        if result[index] < max_counter:\n",
    "            # This element has never been used/updated after previous\n",
    "            #     max_counter command\n",
    "            result[index] = max_counter\n",
    "    return result"
   ]
  }
 ],
 "metadata": {
  "language_info": {
   "name": "python"
  },
  "orig_nbformat": 4
 },
 "nbformat": 4,
 "nbformat_minor": 2
}
