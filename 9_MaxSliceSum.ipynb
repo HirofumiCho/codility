{
 "cells": [
  {
   "cell_type": "code",
   "execution_count": null,
   "metadata": {},
   "outputs": [],
   "source": [
    "# For example, given array A such that:\n",
    "\n",
    "# A[0] = 3  A[1] = 2  A[2] = -6\n",
    "# A[3] = 4  A[4] = 0\n",
    "# the function should return 5 because:\n",
    "\n",
    "# (3, 4) is a slice of A that has sum 4,\n",
    "# (2, 2) is a slice of A that has sum −6,\n",
    "# (0, 1) is a slice of A that has sum 5,\n",
    "# no other slice of A has sum greater than (0, 1).\n",
    "\n",
    "def solution(A):\n",
    "    max_slice_ending_here = A[0]\n",
    "    max_slice = A[0]\n",
    "    for element in A[1:]:\n",
    "        max_slice_ending_here = max(element, max_slice_ending_here+element)\n",
    "        max_slice = max(max_slice, max_slice_ending_here)\n",
    "    return max_slice"
   ]
  }
 ],
 "metadata": {
  "language_info": {
   "name": "python"
  },
  "orig_nbformat": 4
 },
 "nbformat": 4,
 "nbformat_minor": 2
}
