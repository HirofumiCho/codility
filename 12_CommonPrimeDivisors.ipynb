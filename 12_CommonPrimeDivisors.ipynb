{
 "cells": [
  {
   "cell_type": "code",
   "execution_count": 2,
   "metadata": {},
   "outputs": [
    {
     "name": "stdout",
     "output_type": "stream",
     "text": [
      "1.0\n"
     ]
    },
    {
     "data": {
      "text/plain": [
       "True"
      ]
     },
     "execution_count": 2,
     "metadata": {},
     "output_type": "execute_result"
    }
   ],
   "source": [
    "# For example, given:\n",
    "\n",
    "# N = 15 and M = 75, the prime divisors are the same: {3, 5};\n",
    "# N = 10 and M = 30, the prime divisors aren't the same: {2, 5} is not equal to {2, 3, 5};\n",
    "# N = 9 and M = 5, the prime divisors aren't the same: {3} is not equal to {5}.\n",
    "\n",
    "# the function should return 1\n",
    "# because only one pair (15, 75) has the same set of prime divisors.\n",
    "\n",
    "def gcd(x, y):\n",
    "    ''' Compute the greatest common divisor.\n",
    "    '''\n",
    "    if x % y == 0:\n",
    "        return y\n",
    "    else:\n",
    "        return gcd(y, x % y)\n",
    "\n",
    "def removeCommonPrimeDivisors(x, y):\n",
    "    ''' Remove all prime divisors of x, which also exist in y. And\n",
    "        return the remaining part of x.\n",
    "    '''\n",
    "    while x != 1:\n",
    "        gcd_value = gcd(x, y)\n",
    "        if gcd_value == 1:\n",
    "            # x does not contain any more\n",
    "            # common prime divisors\n",
    "            break\n",
    "        x /= gcd_value\n",
    "    return x\n",
    "\n",
    "def hasSamePrimeDivisors(x, y):\n",
    "    gcd_value = gcd(x, y)   # The gcd contains all\n",
    "                            # the common prime divisors\n",
    "    x = removeCommonPrimeDivisors(x, gcd_value)\n",
    "    if x != 1:\n",
    "        # If x and y have exactly the same common\n",
    "        # prime divisors, x must be composed by\n",
    "        # the prime divisors in gcd_value. So\n",
    "        # after previous loop, x must be one.\n",
    "        return False\n",
    "    y = removeCommonPrimeDivisors(y, gcd_value)\n",
    "    print(y)\n",
    "    return y == 1\n",
    "    \n",
    "def solution(A, B):\n",
    "    count = 0\n",
    "    for x,y in zip(A,B):\n",
    "        if hasSamePrimeDivisors(x,y):\n",
    "            count += 1\n",
    "    return count"
   ]
  }
 ],
 "metadata": {
  "interpreter": {
   "hash": "033e964c0f93c70a97e342d2abac49b81c9fa00f2faf1ae23bc7beec7a25c518"
  },
  "kernelspec": {
   "display_name": "Python 3.8.11 ('pytorch')",
   "language": "python",
   "name": "python3"
  },
  "language_info": {
   "codemirror_mode": {
    "name": "ipython",
    "version": 3
   },
   "file_extension": ".py",
   "mimetype": "text/x-python",
   "name": "python",
   "nbconvert_exporter": "python",
   "pygments_lexer": "ipython3",
   "version": "3.8.11"
  },
  "orig_nbformat": 4
 },
 "nbformat": 4,
 "nbformat_minor": 2
}
