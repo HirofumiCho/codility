{
 "cells": [
  {
   "cell_type": "code",
   "execution_count": null,
   "metadata": {},
   "outputs": [],
   "source": [
    "# For example, given S = \"{[()()]}\", the function should return 1 \n",
    "# and given S = \"([)()]\", the function should return 0, as explained above.\n",
    "\n",
    "def solution(S):\n",
    "    if len(S) % 2 == 1:   \n",
    "        return 0\n",
    "    matched = {\"]\":\"[\", \"}\":\"{\", \")\": \"(\"}\n",
    "    to_push = [\"[\", \"{\", \"(\"]\n",
    "    stack = []\n",
    "    for element in S:\n",
    "        if element in to_push:\n",
    "            stack.append(element)\n",
    "        else:\n",
    "            if len(stack) == 0:\n",
    "                return 0\n",
    "            elif matched[element] != stack.pop():\n",
    "                return 0\n",
    "    if len(stack) == 0:\n",
    "        return 1\n",
    "    else:\n",
    "        return 0"
   ]
  }
 ],
 "metadata": {
  "language_info": {
   "name": "python"
  },
  "orig_nbformat": 4
 },
 "nbformat": 4,
 "nbformat_minor": 2
}
