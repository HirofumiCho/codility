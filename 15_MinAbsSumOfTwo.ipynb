{
 "cells": [
  {
   "cell_type": "code",
   "execution_count": null,
   "metadata": {},
   "outputs": [],
   "source": [
    "# For example, the following array A:\n",
    "\n",
    "# A[0] =  1\n",
    "# A[1] =  4\n",
    "# A[2] = -3\n",
    "# has pairs of indices (0, 0), (0, 1), (0, 2), (1, 1), (1, 2), (2, 2).\n",
    "# The abs sum of two for the pair (0, 0) is A[0] + A[0] = |1 + 1| = 2.\n",
    "# The abs sum of two for the pair (0, 1) is A[0] + A[1] = |1 + 4| = 5.\n",
    "# The abs sum of two for the pair (0, 2) is A[0] + A[2] = |1 + (−3)| = 2.\n",
    "# The abs sum of two for the pair (1, 1) is A[1] + A[1] = |4 + 4| = 8.\n",
    "# The abs sum of two for the pair (1, 2) is A[1] + A[2] = |4 + (−3)| = 1.\n",
    "# The abs sum of two for the pair (2, 2) is A[2] + A[2] = |(−3) + (−3)| = 6.\n",
    "\n",
    "# returns the minimal abs sum of two for any pair of indices in this array.\n",
    "\n",
    "def solution(A):\n",
    "    A.sort()        # Sort A in non-decreasing order\n",
    "    if A[0] >= 0:   return A[0] + A[0]      # All non-negative\n",
    "    if A[-1] <= 0:  return -A[-1] - A[-1]   # All non-positive\n",
    "    front, back = len(A)-1, 0\n",
    "    minAbs = A[-1] + A[-1]                  # Final result\n",
    "    # Travel the array from both ends to some center point.\n",
    "    # See following post for the proof of this method.\n",
    "    # https://34.145.67.234/2014/solution-to-min-abs-sum-of-two-by-codility\n",
    "    while back <= front:\n",
    "        temp = abs(A[back] + A[front])\n",
    "        # Update the result if needed\n",
    "        if temp < minAbs:  \n",
    "            minAbs = temp\n",
    "        \n",
    "        # Adjust the pointer for next trying\n",
    "        if back == front: \n",
    "            break\n",
    "        elif abs(A[back+1] + A[front]) <= temp:    \n",
    "            back += 1\n",
    "        elif abs(A[back] + A[front-1]) <= temp:  \n",
    "            front -= 1\n",
    "        else:                         \n",
    "            back += 1 \n",
    "            front -= 1\n",
    "    return minAbs"
   ]
  }
 ],
 "metadata": {
  "language_info": {
   "name": "python"
  },
  "orig_nbformat": 4
 },
 "nbformat": 4,
 "nbformat_minor": 2
}
