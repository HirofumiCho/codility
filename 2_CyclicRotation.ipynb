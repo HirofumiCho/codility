{
 "cells": [
  {
   "cell_type": "code",
   "execution_count": null,
   "metadata": {},
   "outputs": [],
   "source": [
    "# For example, given\n",
    "# A = [3, 8, 9, 7, 6]\n",
    "# K = 3\n",
    "# the function should return [9, 7, 6, 3, 8]. Three rotations were made:\n",
    "# [3, 8, 9, 7, 6] -> [6, 3, 8, 9, 7]\n",
    "# [6, 3, 8, 9, 7] -> [7, 6, 3, 8, 9]\n",
    "# [7, 6, 3, 8, 9] -> [9, 7, 6, 3, 8]\n",
    "\n",
    "def solution(A, K):\n",
    "    # write your code in Python 3.6\n",
    "    \n",
    "    if A == []:\n",
    "        return []\n",
    "    \n",
    "    n = len(A)\n",
    "    K = K % n #取余\n",
    "    A[:] = A[n - K:] + A[:n - K]\n",
    "\n",
    "    return A"
   ]
  }
 ],
 "metadata": {
  "language_info": {
   "name": "python"
  },
  "orig_nbformat": 4
 },
 "nbformat": 4,
 "nbformat_minor": 2
}
