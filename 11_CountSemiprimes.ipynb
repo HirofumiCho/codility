{
 "cells": [
  {
   "cell_type": "code",
   "execution_count": 2,
   "metadata": {},
   "outputs": [],
   "source": [
    "# For example, consider an integer N = 26 and arrays P, Q such that:\n",
    "\n",
    "# P[0] = 1    Q[0] = 26\n",
    "# P[1] = 4    Q[1] = 10\n",
    "# P[2] = 16   Q[2] = 20\n",
    "# The number of semiprimes within each of these ranges is as follows:\n",
    "\n",
    "# (1, 26) is 10,\n",
    "# (4, 10) is 4,\n",
    "# (16, 20) is 0.\n",
    "\n",
    "# the function should return the values [10, 4, 0], as explained above.\n",
    "\n",
    "def sieve(N):\n",
    "    semi = set()\n",
    "    sieve = [True]* (N+1)\n",
    "    sieve[0] = sieve[1] = False\n",
    " \n",
    "    i = 2\n",
    "    while (i*i <= N):\n",
    "        if sieve[i] == True:\n",
    "            for j in range(i*i, N+1, i):\n",
    "                sieve[j] = False\n",
    "        i += 1\n",
    " \n",
    "    i = 2\n",
    "    while (i*i <= N):\n",
    "        if sieve[i] == True:\n",
    "            for j in range(i*i, N+1, i):\n",
    "                if (j % i == 0 and sieve[j//i] == True):\n",
    "                    semi.add(j)\n",
    "        i += 1\n",
    " \n",
    "    return semi\n",
    " \n",
    "def solution(N, P, Q):\n",
    " \n",
    "    semi_set = sieve(N)\n",
    " \n",
    "    prefix = []\n",
    " \n",
    "    prefix.append(0) # 0\n",
    "    prefix.append(0) # 1\n",
    "    prefix.append(0) # 2\n",
    "    prefix.append(0) # 3\n",
    "    prefix.append(1) # 4\n",
    " \n",
    "    for idx in range(5, max(Q)+1):\n",
    "        if idx in semi_set:\n",
    "            prefix.append(prefix[-1]+1)\n",
    "        else:\n",
    "            prefix.append(prefix[-1])\n",
    "    #prefix=[0, 0, 0, 0, 1, 1, 2, 2, 2, 3, 4, 4, 4, 4, 5, 6, 6, 6, 6, 6, 6, 7, 8, 8, 8, 9, 10]\n",
    "    solution = []\n",
    " \n",
    "    for idx in range(len(Q)):\n",
    "        solution.append(prefix[Q[idx]] - prefix[P[idx]-1])\n",
    " \n",
    "    return solution\n"
   ]
  }
 ],
 "metadata": {
  "interpreter": {
   "hash": "1e340dcf31dccc0d97ad9f10a90800d51d252db19c64793eb3e7ab5b071c8506"
  },
  "kernelspec": {
   "display_name": "Python 3.6.13 ('pytorch')",
   "language": "python",
   "name": "python3"
  },
  "language_info": {
   "codemirror_mode": {
    "name": "ipython",
    "version": 3
   },
   "file_extension": ".py",
   "mimetype": "text/x-python",
   "name": "python",
   "nbconvert_exporter": "python",
   "pygments_lexer": "ipython3",
   "version": "3.6.13"
  },
  "orig_nbformat": 4
 },
 "nbformat": 4,
 "nbformat_minor": 2
}
