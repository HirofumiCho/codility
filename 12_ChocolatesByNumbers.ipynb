{
 "cells": [
  {
   "cell_type": "code",
   "execution_count": null,
   "metadata": {},
   "outputs": [],
   "source": [
    "# For example, given integers N = 10 and M = 4. \n",
    "# You will eat the following chocolates: 0, 4, 8, 2, 6.\n",
    "# The goal is to count the number of chocolates that you will eat, following the above rules.\n",
    "\n",
    "def gcd(a, b):\n",
    "    # Get the greatest common divisor\n",
    "    # 最大公约数\n",
    "    if (a % b == 0):\n",
    "        return b\n",
    "    else:\n",
    "        return gcd(b, a % b)\n",
    "\n",
    "def solution(N, M):\n",
    "    lcm = N * M // gcd(N, M) # Least common multiple\n",
    "    # 最小公倍数\n",
    "    return lcm // M"
   ]
  }
 ],
 "metadata": {
  "language_info": {
   "name": "python"
  },
  "orig_nbformat": 4
 },
 "nbformat": 4,
 "nbformat_minor": 2
}
