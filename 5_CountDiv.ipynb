{
 "cells": [
  {
   "cell_type": "code",
   "execution_count": null,
   "metadata": {},
   "outputs": [],
   "source": [
    "# For example, for A = 6, B = 11 and K = 2 \n",
    "# your function should return 3\n",
    "# because there are three numbers divisible by 2 within the range [6..11]\n",
    "# namely 6, 8 and 10.\n",
    "\n",
    "def solution(A, B, K):\n",
    "    # write your code in Python 3.6\n",
    "    if A % K == 0:  \n",
    "        return (B - A) // K + 1\n",
    "        #X = A + mK\n",
    "    else:           \n",
    "        return (B - (A - A % K )) // K\n",
    "        #A, B, K = 21, 31, 10\n",
    "        #A, B, K = 29, 31, 10"
   ]
  }
 ],
 "metadata": {
  "language_info": {
   "name": "python"
  },
  "orig_nbformat": 4
 },
 "nbformat": 4,
 "nbformat_minor": 2
}
