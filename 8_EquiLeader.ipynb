{
 "cells": [
  {
   "cell_type": "code",
   "execution_count": null,
   "metadata": {},
   "outputs": [],
   "source": [
    "# For example, given array A such that:\n",
    "\n",
    "# A[0] = 4\n",
    "# A[1] = 3\n",
    "# A[2] = 4\n",
    "# A[3] = 4\n",
    "# A[4] = 4\n",
    "# A[5] = 2\n",
    "# we can find two equi leaders:\n",
    "\n",
    "# 0, because sequences: (4) and (3, 4, 4, 4, 2) have the same leader, whose value is 4.\n",
    "# 2, because sequences: (4, 3, 4) and (4, 4, 2) have the same leader, whose value is 4.\n",
    "# The goal is to count the number of equi leaders.\n",
    "\n",
    "def solution(A):\n",
    "    A_len = len(A)\n",
    "    candidate = -1\n",
    "    candidate_count = 0\n",
    "    candidate_index = -1\n",
    "    # Find out a leader candidate\n",
    "    for index in range(A_len):\n",
    "        if candidate_count == 0:\n",
    "            candidate = A[index]\n",
    "            candidate_index = index\n",
    "            candidate_count += 1\n",
    "        else:\n",
    "            if A[index] == candidate:\n",
    "                candidate_count += 1\n",
    "            else:\n",
    "                candidate_count -= 1\n",
    "    # Make sure the candidate is the leader\n",
    "    leader_count = len([number for number in A if number == candidate])\n",
    "    if leader_count <= A_len//2:\n",
    "        # The candidate is not the leader\n",
    "        return 0\n",
    "    else:\n",
    "        leader = candidate\n",
    "    equi_leaders = 0\n",
    "    leader_count_so_far = 0\n",
    "    for index in range(A_len):\n",
    "        if A[index] == leader:\n",
    "            leader_count_so_far += 1\n",
    "        if leader_count_so_far > (index+1)//2 and leader_count-leader_count_so_far > (A_len-index-1)//2:\n",
    "            # Both the head and tail have leaders of the same value\n",
    "            # leader_count_so_far > (index+1)//2: 判断左边leader数是否超过总数一半\n",
    "            # as \"leader\"\n",
    "            equi_leaders += 1\n",
    "    return equi_leaders"
   ]
  }
 ],
 "metadata": {
  "language_info": {
   "name": "python"
  },
  "orig_nbformat": 4
 },
 "nbformat": 4,
 "nbformat_minor": 2
}
