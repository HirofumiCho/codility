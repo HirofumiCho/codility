{
 "cells": [
  {
   "cell_type": "code",
   "execution_count": null,
   "metadata": {},
   "outputs": [],
   "source": [
    "# For example, given integer N = 30, rectangles of area 30 are:\n",
    "\n",
    "# (1, 30), with a perimeter of 62,\n",
    "# (2, 15), with a perimeter of 34,\n",
    "# (3, 10), with a perimeter of 26,\n",
    "# (5, 6), with a perimeter of 22.\n",
    "\n",
    "# Let the length of one side be len_1\n",
    "# and the length of one adjacent side be len_2. \n",
    "# For a rectangle with a constant area, \n",
    "# the perimeter is minimized when the difference between len_1 and len_2,\n",
    "# abs(len_1- len_2), is minimized.\n",
    "\n",
    "def solution(N):\n",
    "    for i in range(int(N ** 0.5), 0, -1):\n",
    "        if N % i == 0:\n",
    "            return 2 * (i + N // i)\n",
    "            #return 2*(i+int(N/i))"
   ]
  }
 ],
 "metadata": {
  "language_info": {
   "name": "python"
  },
  "orig_nbformat": 4
 },
 "nbformat": 4,
 "nbformat_minor": 2
}
