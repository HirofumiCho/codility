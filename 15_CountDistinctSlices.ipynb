{
 "cells": [
  {
   "cell_type": "code",
   "execution_count": null,
   "metadata": {},
   "outputs": [],
   "source": [
    "# For example, consider integer M = 6 and array A such that:\n",
    "\n",
    "# A[0] = 3\n",
    "# A[1] = 4\n",
    "# A[2] = 5\n",
    "# A[3] = 5\n",
    "# A[4] = 2\n",
    "# There are exactly nine distinct slices: (0, 0), (0, 1), (0, 2), (1, 1), (1, 2), (2, 2), (3, 3), (3, 4) and (4, 4).\n",
    "\n",
    "# The goal is to calculate the number of distinct slices.\n",
    "\n",
    "def solution(M, A):\n",
    "    the_sum = 0\n",
    "    front = back = 0\n",
    "    seen = [False] * (M+1)\n",
    "    while (front < len(A) and back < len(A)):\n",
    "        while (front < len(A) and seen[A[front]] != True):\n",
    "            the_sum += (front-back+1)\n",
    "            # An observation showed that the number of sub-slices is equal to front-back+1.\n",
    "            seen[A[front]] = True\n",
    "            front += 1\n",
    "        else:\n",
    "            while front < len(A) and back < len(A) and A[back] != A[front]:\n",
    "                seen[A[back]] = False\n",
    "                back += 1\n",
    "                 \n",
    "            seen[A[back]] = False\n",
    "            back += 1\n",
    "             \n",
    "                 \n",
    "    return min(the_sum, 1000000000)  "
   ]
  }
 ],
 "metadata": {
  "language_info": {
   "name": "python"
  },
  "orig_nbformat": 4
 },
 "nbformat": 4,
 "nbformat_minor": 2
}
