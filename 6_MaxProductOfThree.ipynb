{
 "cells": [
  {
   "cell_type": "code",
   "execution_count": null,
   "metadata": {},
   "outputs": [],
   "source": [
    "# For example, array A such that:\n",
    "\n",
    "# A[0] = -3\n",
    "# A[1] = 1\n",
    "# A[2] = 2\n",
    "# A[3] = -2\n",
    "# A[4] = 5\n",
    "# A[5] = 6\n",
    "# contains the following example triplets:\n",
    "\n",
    "# (0, 1, 2), product is −3 * 1 * 2 = −6\n",
    "# (1, 2, 4), product is 1 * 2 * 5 = 10\n",
    "# (2, 4, 5), product is 2 * 5 * 6 = 60\n",
    "# Your goal is to find the maximal product of any triplet.\n",
    "\n",
    "# the function should return 60, as the product of triplet (2, 4, 5) is maximal.\n",
    "\n",
    "def solution(A):\n",
    "    A.sort()\n",
    "    return max(A[0]*A[1]*A[-1], A[-1]*A[-2]*A[-3])\n",
    "    #A[0]   -\n",
    "    #A[1]   -\n",
    "    #A[-1]  +\n"
   ]
  }
 ],
 "metadata": {
  "language_info": {
   "name": "python"
  },
  "orig_nbformat": 4
 },
 "nbformat": 4,
 "nbformat_minor": 2
}
