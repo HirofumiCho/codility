{
 "cells": [
  {
   "cell_type": "code",
   "execution_count": null,
   "metadata": {},
   "outputs": [],
   "source": [
    "# For example, given A = [1, 3, 6, 4, 1, 2], the function should return 5.\n",
    "\n",
    "# Given A = [1, 2, 3], the function should return 4.\n",
    "\n",
    "# Given A = [−1, −3], the function should return 1.\n",
    "\n",
    "def solution(A):\n",
    "    ''' Solve it with Pigeonhole principle.\n",
    "        There are N integers in the input. So for the\n",
    "        first N+1 positive integers, at least one of\n",
    "        them must be missing.\n",
    "    '''\n",
    "    # We only care about the first N+1 positive integers.\n",
    "    # occurrence[i] is for the integer i+1.\n",
    "    occurrence = [False] * (len(A) + 1)\n",
    "    for item in A:\n",
    "        if 1 <= item <= len(A) + 1:\n",
    "            occurrence[item-1] = True\n",
    "    # Find out the missing minimal positive integer.\n",
    "    for index in range(len(A) + 1):\n",
    "        if occurrence[index] == False:\n",
    "            return index + 1\n",
    "    # raise Exception(\"Should never be here.\")\n",
    "    return -1"
   ]
  }
 ],
 "metadata": {
  "language_info": {
   "name": "python"
  },
  "orig_nbformat": 4
 },
 "nbformat": 4,
 "nbformat_minor": 2
}
