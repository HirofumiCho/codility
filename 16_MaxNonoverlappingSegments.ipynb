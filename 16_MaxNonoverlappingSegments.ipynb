{
 "cells": [
  {
   "cell_type": "code",
   "execution_count": null,
   "metadata": {},
   "outputs": [],
   "source": [
    "def solution(A, B):\n",
    "    # No overlapping is possible.\n",
    "    if len(A) < 2:      \n",
    "        return len(A)\n",
    "    count = 1       # The first segment starts a new cluster.\n",
    "    end = B[0]\n",
    "    index = 1       # The second segment.\n",
    "    while index < len(A):\n",
    "        # Skip all the segments in this cluster.\n",
    "        while index < len(A) and A[index] <= end:   \n",
    "            index += 1\n",
    "        # All segments are processed.\n",
    "        if index == len(A):                         \n",
    "            break\n",
    "        # Start a new cluster.\n",
    "        count += 1\n",
    "        end = B[index]\n",
    "    return count"
   ]
  }
 ],
 "metadata": {
  "language_info": {
   "name": "python"
  },
  "orig_nbformat": 4
 },
 "nbformat": 4,
 "nbformat_minor": 2
}
