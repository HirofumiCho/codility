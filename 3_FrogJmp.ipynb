{
 "cells": [
  {
   "cell_type": "code",
   "execution_count": null,
   "metadata": {},
   "outputs": [],
   "source": [
    "# For example, given:\n",
    "# X = 10\n",
    "# Y = 85\n",
    "# D = 30\n",
    "# the function should return 3, because the frog will be positioned as follows:\n",
    "# after the first jump, at position 10 + 30 = 40\n",
    "# after the second jump, at position 10 + 30 + 30 = 70\n",
    "# after the third jump, at position 10 + 30 + 30 + 30 = 100\n",
    "\n",
    "def solution(X, Y, D):\n",
    "    # write your code in Python 3.6\n",
    "    if (Y - X) % D == 0:\n",
    "        return (Y - X)// D\n",
    "    else:\n",
    "        return (Y - X) // D + 1"
   ]
  }
 ],
 "metadata": {
  "language_info": {
   "name": "python"
  },
  "orig_nbformat": 4
 },
 "nbformat": 4,
 "nbformat_minor": 2
}
