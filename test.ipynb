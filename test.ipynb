{
 "cells": [
  {
   "cell_type": "code",
   "execution_count": 14,
   "metadata": {},
   "outputs": [
    {
     "name": "stdout",
     "output_type": "stream",
     "text": [
      "{3: {1, 3}, 1: {1}, 2: {1, 2}, 6: {1, 6}}\n",
      "{3: {1, 3}, 1: {1}, 2: {1, 2}, 6: {1, 2, 6}}\n"
     ]
    },
    {
     "data": {
      "text/plain": [
       "[2, 4, 3, 2, 0]"
      ]
     },
     "execution_count": 14,
     "metadata": {},
     "output_type": "execute_result"
    }
   ],
   "source": [
    "A = [3,1,2,3,6]\n",
    "def solution(A):\n",
    "  \n",
    "    A_max = max(A)\n",
    "  \n",
    "    count = {}\n",
    "    for element in A:\n",
    "        if element not in count:\n",
    "            count[element] = 1\n",
    "        else:\n",
    "            count[element] += 1\n",
    "  \n",
    "    divisors = {}\n",
    "    for element in A:\n",
    "        divisors[element] = set([1, element])\n",
    "    print(divisors)\n",
    "  \n",
    "    # start the Sieve of Eratosthenes\n",
    "    # https://zh.wikipedia.org/wiki/%E5%9F%83%E6%8B%89%E6%89%98%E6%96%AF%E7%89%B9%E5%B0%BC%E7%AD%9B%E6%B3%95\n",
    "    divisor = 2\n",
    "    while divisor*divisor <= A_max:\n",
    "        element_candidate = divisor\n",
    "        while element_candidate  <= A_max:\n",
    "            if element_candidate in divisors and not divisor in divisors[element_candidate]:\n",
    "                divisors[element_candidate].add(divisor)\n",
    "                print(divisors)\n",
    "                divisors[element_candidate].add(element_candidate//divisor)\n",
    "            element_candidate += divisor\n",
    "        divisor += 1\n",
    "  \n",
    "    result = [0] * len(A)\n",
    "    for idx, element in enumerate(A):\n",
    "        result[idx] = (len(A)-sum([count.get(divisor,0) for divisor in divisors[element]]))\n",
    "  \n",
    "    return result\n",
    "\n",
    "solution(A)"
   ]
  }
 ],
 "metadata": {
  "interpreter": {
   "hash": "033e964c0f93c70a97e342d2abac49b81c9fa00f2faf1ae23bc7beec7a25c518"
  },
  "kernelspec": {
   "display_name": "Python 3.8.11 ('pytorch')",
   "language": "python",
   "name": "python3"
  },
  "language_info": {
   "codemirror_mode": {
    "name": "ipython",
    "version": 3
   },
   "file_extension": ".py",
   "mimetype": "text/x-python",
   "name": "python",
   "nbconvert_exporter": "python",
   "pygments_lexer": "ipython3",
   "version": "3.8.11"
  },
  "orig_nbformat": 4
 },
 "nbformat": 4,
 "nbformat_minor": 2
}
