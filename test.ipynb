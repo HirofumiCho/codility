{
 "cells": [
  {
   "cell_type": "code",
   "execution_count": 2,
   "metadata": {},
   "outputs": [
    {
     "name": "stdout",
     "output_type": "stream",
     "text": [
      "[0, 0, 0, 0, 1, 1, 2, 2, 2, 3, 4, 4, 4, 4, 5, 6, 6, 6, 6, 6, 6, 7, 8, 8, 8, 9, 10]\n"
     ]
    },
    {
     "data": {
      "text/plain": [
       "[10, 4, 0, 1]"
      ]
     },
     "execution_count": 2,
     "metadata": {},
     "output_type": "execute_result"
    }
   ],
   "source": [
    "\n",
    "def sieve(N):\n",
    "    semi = set()\n",
    "    sieve = [True]* (N+1)\n",
    "    sieve[0] = sieve[1] = False\n",
    " \n",
    "    i = 2\n",
    "    while (i*i <= N):\n",
    "        if sieve[i] == True:\n",
    "            for j in range(i*i, N+1, i):\n",
    "                sieve[j] = False\n",
    "        i += 1\n",
    " \n",
    "    i = 2\n",
    "    while (i*i <= N):\n",
    "        if sieve[i] == True:\n",
    "            for j in range(i*i, N+1, i):\n",
    "                if (j % i == 0 and sieve[j//i] == True):\n",
    "                    semi.add(j)\n",
    "        i += 1\n",
    " \n",
    "    return semi\n",
    " \n",
    "def solution(N, P, Q):\n",
    " \n",
    "    semi_set = sieve(N)\n",
    " \n",
    "    prefix = []\n",
    " \n",
    "    prefix.append(0) # 0\n",
    "    prefix.append(0) # 1\n",
    "    prefix.append(0) # 2\n",
    "    prefix.append(0) # 3\n",
    "    prefix.append(1) # 4\n",
    " \n",
    "    for idx in range(5, max(Q)+1):\n",
    "        if idx in semi_set:\n",
    "            prefix.append(prefix[-1]+1)\n",
    "        else:\n",
    "            prefix.append(prefix[-1])\n",
    "    print(prefix)\n",
    "    solution = []\n",
    " \n",
    "    for idx in range(len(Q)):\n",
    "        solution.append(prefix[Q[idx]] - prefix[P[idx]-1])\n",
    " \n",
    "    return solution\n",
    "\n",
    "N=26\n",
    "P=[1,4,16,1]\n",
    "Q=[26,10,20,5]\n",
    "solution(N, P, Q)"
   ]
  }
 ],
 "metadata": {
  "interpreter": {
   "hash": "033e964c0f93c70a97e342d2abac49b81c9fa00f2faf1ae23bc7beec7a25c518"
  },
  "kernelspec": {
   "display_name": "Python 3.8.11 ('pytorch')",
   "language": "python",
   "name": "python3"
  },
  "language_info": {
   "codemirror_mode": {
    "name": "ipython",
    "version": 3
   },
   "file_extension": ".py",
   "mimetype": "text/x-python",
   "name": "python",
   "nbconvert_exporter": "python",
   "pygments_lexer": "ipython3",
   "version": "3.6.13"
  },
  "orig_nbformat": 4
 },
 "nbformat": 4,
 "nbformat_minor": 2
}
