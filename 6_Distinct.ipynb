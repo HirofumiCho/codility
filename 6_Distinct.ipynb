{
 "cells": [
  {
   "cell_type": "code",
   "execution_count": null,
   "metadata": {},
   "outputs": [],
   "source": [
    "# For example, given array A consisting of six elements such that:\n",
    "\n",
    "# A[0] = 2    A[1] = 1    A[2] = 1\n",
    "# A[3] = 2    A[4] = 3    A[5] = 1\n",
    "# the function should return 3\n",
    "# because there are 3 distinct values appearing in array A, namely 1, 2 and 3.\n",
    "\n",
    "def solution(A):\n",
    "    # write your code in Python 3.6\n",
    "    if len(A) == 0:\n",
    "        distinct = 0\n",
    "    else:\n",
    "        distinct = 1\n",
    "        A.sort()\n",
    "        for index in range(1, len(A)):\n",
    "            if A[index] == A[index-1]:\n",
    "                # The same element as the previous one\n",
    "                continue\n",
    "            else:\n",
    "                # A new element\n",
    "                distinct += 1\n",
    "    return distinct"
   ]
  }
 ],
 "metadata": {
  "language_info": {
   "name": "python"
  },
  "orig_nbformat": 4
 },
 "nbformat": 4,
 "nbformat_minor": 2
}
