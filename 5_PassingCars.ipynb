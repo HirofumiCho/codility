{
 "cells": [
  {
   "cell_type": "code",
   "execution_count": null,
   "metadata": {},
   "outputs": [],
   "source": [
    "# For example, consider array A such that:\n",
    "\n",
    "# A[0] = 0\n",
    "# A[1] = 1\n",
    "# A[2] = 0\n",
    "# A[3] = 1\n",
    "# A[4] = 1\n",
    "# We have five pairs of passing cars: (0, 1), (0, 3), (0, 4), (2, 3), (2, 4).\n",
    "\n",
    "def solution(A):\n",
    "    # write your code in Python 3.6\n",
    "    zeros = 0\n",
    "    passing = 0\n",
    "    for i in A:\n",
    "        if i == 0:\n",
    "            zeros += 1\n",
    "        else:\n",
    "            passing += zeros\n",
    "    # if passing > 1000000000:\n",
    "    #     return -1\n",
    "    return passing"
   ]
  }
 ],
 "metadata": {
  "language_info": {
   "name": "python"
  },
  "orig_nbformat": 4
 },
 "nbformat": 4,
 "nbformat_minor": 2
}
