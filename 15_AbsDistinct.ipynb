{
 "cells": [
  {
   "cell_type": "code",
   "execution_count": null,
   "metadata": {},
   "outputs": [],
   "source": [
    "# For example, consider array A such that:\n",
    "\n",
    "# A[0] = -5\n",
    "# A[1] = -3\n",
    "# A[2] = -1\n",
    "# A[3] =  0\n",
    "# A[4] =  3\n",
    "# A[5] =  6\n",
    "# The absolute distinct count of this array is 5, because there are 5 distinct absolute values among the elements of this array, namely 0, 1, 3, 5 and 6.\n",
    "\n",
    "def solution(A):\n",
    "    # write your code in Python 3.6:\n",
    "    return len(set([abs(x) for x in A]))"
   ]
  }
 ],
 "metadata": {
  "language_info": {
   "name": "python"
  },
  "orig_nbformat": 4
 },
 "nbformat": 4,
 "nbformat_minor": 2
}
