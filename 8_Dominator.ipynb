{
 "cells": [
  {
   "cell_type": "code",
   "execution_count": null,
   "metadata": {},
   "outputs": [],
   "source": [
    "# For example, consider array A such that\n",
    "\n",
    "# A[0] = 3    A[1] = 4    A[2] =  3\n",
    "# A[3] = 2    A[4] = 3    A[5] = -1\n",
    "# A[6] = 3    A[7] = 3\n",
    "# The dominator of A is 3 \n",
    "# because it occurs in 5 out of 8 elements of A \n",
    "# (namely in those with indices 0, 2, 4, 6 and 7) \n",
    "# and 5 is more than a half of 8.\n",
    "\n",
    "def solution(A):\n",
    "    # write your code in Python 3.6\n",
    "    size = 0\n",
    "    leader = -1\n",
    "    index = -1\n",
    "    for i in range(len(A)):\n",
    "        if size ==0:\n",
    "            leader = A[i]\n",
    "            size +=1\n",
    "            index = i\n",
    "        else:\n",
    "            if A[i]!=leader:\n",
    "                size -=1\n",
    "            else:\n",
    "                size +=1\n",
    "    #检验leader是否是真的leader\n",
    "    if A.count(leader)<= len(A)//2:\n",
    "        return -1\n",
    "    else:\n",
    "        return index"
   ]
  }
 ],
 "metadata": {
  "language_info": {
   "name": "python"
  },
  "orig_nbformat": 4
 },
 "nbformat": 4,
 "nbformat_minor": 2
}
