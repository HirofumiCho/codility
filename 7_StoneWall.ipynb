{
 "cells": [
  {
   "cell_type": "code",
   "execution_count": null,
   "metadata": {},
   "outputs": [],
   "source": [
    "def solution(H):\n",
    "    stack = []\n",
    "    block_count = 0    # The number of needing blocks\n",
    "    for height in H:\n",
    "        while len(stack) != 0 and height < stack[-1]:\n",
    "            # If the height of current block is less than\n",
    "            #    the previous ones, the previous ones have\n",
    "            #    to end before current point. They have no\n",
    "            #    chance to exist in the remaining part.\n",
    "            # So the previous blocks are completely finished.\n",
    "            stack.pop()\n",
    "            block_count += 1\n",
    "        if len(stack) == 0 or height > stack[-1]:\n",
    "            # If the height of current block is greater than\n",
    "            #    the previous one, a new block is needed for\n",
    "            #    current position.\n",
    "            stack.append(height)\n",
    "        # Else (the height of current block is same as that\n",
    "        #    of previous one), they should be combined to\n",
    "        #    one block.\n",
    "    # Some blocks with different heights are still in the stack.\n",
    "    block_count += len(stack)\n",
    "    return block_count"
   ]
  }
 ],
 "metadata": {
  "language_info": {
   "name": "python"
  },
  "orig_nbformat": 4
 },
 "nbformat": 4,
 "nbformat_minor": 2
}
