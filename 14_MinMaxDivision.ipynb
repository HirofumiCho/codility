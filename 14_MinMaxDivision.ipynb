{
 "cells": [
  {
   "cell_type": "code",
   "execution_count": 13,
   "metadata": {},
   "outputs": [
    {
     "name": "stdout",
     "output_type": "stream",
     "text": [
      "10\n",
      "2\n",
      "7\n",
      "3\n",
      "5\n",
      "4\n",
      "6\n",
      "3\n"
     ]
    },
    {
     "data": {
      "text/plain": [
       "6"
      ]
     },
     "execution_count": 13,
     "metadata": {},
     "output_type": "execute_result"
    }
   ],
   "source": [
    "# For example, you are given integers K = 3, M = 5 and array A such that:\n",
    "\n",
    "# A[0] = 2\n",
    "# A[1] = 1\n",
    "# A[2] = 5\n",
    "# A[3] = 1\n",
    "# A[4] = 2\n",
    "# A[5] = 2\n",
    "# A[6] = 2\n",
    "# The array can be divided, for example, into the following blocks:\n",
    "\n",
    "# [2, 1, 5, 1, 2, 2, 2], [], [] with a large sum of 15;\n",
    "# [2], [1, 5, 1, 2], [2, 2] with a large sum of 9;\n",
    "# [2, 1, 5], [], [1, 2, 2, 2] with a large sum of 8;\n",
    "# [2, 1], [5, 1], [2, 2, 2] with a large sum of 6.\n",
    "# The goal is to minimize the large sum. In the above example, 6 is the minimal large sum.\n",
    "\n",
    "def blocksNo(A, maxBlock):\n",
    "    # Initially set the A[0] being an individual block\n",
    "    blocksNumber = 1    # The number of blocks, that A could\n",
    "                        # be divided to with the restriction\n",
    "                        # that, the sum of each block is less\n",
    "                        # than or equal to maxBlock\n",
    "    preBlockSum = A[0]\n",
    "    for element in A[1:]:\n",
    "        # Try to extend the previous block\n",
    "        if preBlockSum + element > maxBlock:\n",
    "            # Fail to extend the previous block, because\n",
    "            # of the sum limitation maxBlock\n",
    "            preBlockSum = element\n",
    "            blocksNumber += 1\n",
    "        else:\n",
    "            preBlockSum += element\n",
    "            #print(blocksNumber)\n",
    "    return blocksNumber\n",
    "\n",
    "def solution(K, M, A):\n",
    "    blocksNeeded = 0    # Given the restriction on the sum of\n",
    "                        # each block, how many blocks could\n",
    "                        # the original A be divided to?\n",
    "    resultLowerBound = max(A)\n",
    "    resultUpperBound = sum(A)\n",
    "    result = 0          # Minimal large sum\n",
    "    # Handle two special cases\n",
    "    if K == 1:      return resultUpperBound\n",
    "    if K >= len(A): return resultLowerBound\n",
    "    # Binary search the result\n",
    "    while resultLowerBound <= resultUpperBound:\n",
    "        resultMaxMid = (resultLowerBound + resultUpperBound) // 2\n",
    "        print(resultMaxMid)\n",
    "        blocksNeeded = blocksNo(A, resultMaxMid)\n",
    "        print(blocksNeeded)\n",
    "        if blocksNeeded <= K:\n",
    "            # With large sum being resultMaxMid or resultMaxMid-,\n",
    "            # we need blocksNeeded/blocksNeeded- blocks. While we\n",
    "            # have some unused blocks (K - blocksNeeded), We could\n",
    "            # try to use them to decrease the large sum.\n",
    "            resultUpperBound = resultMaxMid - 1\n",
    "            result = resultMaxMid\n",
    "\n",
    "        else:\n",
    "            # With large sum being resultMaxMid or resultMaxMid-,\n",
    "            # we need to use more than K blocks. So resultMaxMid\n",
    "            # is impossible to be our answer.\n",
    "            resultLowerBound = resultMaxMid + 1\n",
    "    return result\n",
    "\n",
    "\n",
    "A = [2,1,5,1,2,2,2] \n",
    "K = 3\n",
    "M = 5\n",
    "\n",
    "solution(K, M, A)\n"
   ]
  }
 ],
 "metadata": {
  "interpreter": {
   "hash": "fdc35f30aaebd47e83f4266d0dd17bde7edc05f636fde7db7312122ba51bd297"
  },
  "kernelspec": {
   "display_name": "Python 3.6.13 ('pytorch')",
   "language": "python",
   "name": "python3"
  },
  "language_info": {
   "codemirror_mode": {
    "name": "ipython",
    "version": 3
   },
   "file_extension": ".py",
   "mimetype": "text/x-python",
   "name": "python",
   "nbconvert_exporter": "python",
   "pygments_lexer": "ipython3",
   "version": "3.6.13"
  },
  "orig_nbformat": 4
 },
 "nbformat": 4,
 "nbformat_minor": 2
}
