{
 "cells": [
  {
   "cell_type": "code",
   "execution_count": null,
   "metadata": {},
   "outputs": [],
   "source": [
    "# For example, you are given integer X = 5 and array A such that:\n",
    "\n",
    "# A[0] = 1\n",
    "# A[1] = 3\n",
    "# A[2] = 1\n",
    "# A[3] = 4\n",
    "# A[4] = 2\n",
    "# A[5] = 3\n",
    "# A[6] = 5\n",
    "# A[7] = 4\n",
    "\n",
    "# In second 6, a leaf falls into position 5.\n",
    "# This is the earliest time when leaves appear in every position across the river.\n",
    "\n",
    "def solution(X, A):\n",
    "    # write your code in Python 3.6\n",
    "    i = 0\n",
    "    dict_temp = {}\n",
    "    while i < len(A):\n",
    "        dict_temp[A[i]] = i\n",
    "        if len(dict_temp) == X:\n",
    "            return i\n",
    "        i += 1\n",
    "    return -1"
   ]
  }
 ],
 "metadata": {
  "language_info": {
   "name": "python"
  },
  "orig_nbformat": 4
 },
 "nbformat": 4,
 "nbformat_minor": 2
}
