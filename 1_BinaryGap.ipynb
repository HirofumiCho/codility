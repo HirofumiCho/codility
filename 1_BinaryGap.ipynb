{
 "cells": [
  {
   "cell_type": "code",
   "execution_count": null,
   "metadata": {},
   "outputs": [],
   "source": [
    "# For example, given N = 1041 the function should return 5, \n",
    "# because N has binary representation 10000010001 \n",
    "# and so its longest binary gap is of length 5.\n",
    "# Given N = 32 the function should return 0,\n",
    "# because N has binary representation '100000' and thus no binary gaps.\n",
    "\n",
    "def solution(N):\n",
    "    last, ans, i = -1, 0, 0\n",
    "    while N:\n",
    "        if N & 1:\n",
    "        # & 按位与运算符\n",
    "            if last != -1:\n",
    "                ans = max(ans, i - last - 1)\n",
    "            last = i\n",
    "        N >>= 1\n",
    "        #右移=除2\n",
    "        i += 1\n",
    "    return ans"
   ]
  }
 ],
 "metadata": {
  "language_info": {
   "name": "python"
  },
  "orig_nbformat": 4
 },
 "nbformat": 4,
 "nbformat_minor": 2
}
